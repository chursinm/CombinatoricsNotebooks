{
 "cells": [
  {
   "cell_type": "markdown",
   "id": "32667a9c-0238-40ac-8c9c-cddeb67a407e",
   "metadata": {},
   "source": [
    "# **Introduction tosimple probability/combinatorics**"
   ]
  },
  {
   "cell_type": "markdown",
   "id": "bbe24bbc-eb5d-4235-b034-16cd52a8146e",
   "metadata": {
    "jp-MarkdownHeadingCollapsed": true
   },
   "source": [
    "## **Uniform random** \n",
    "We want to learn how to generate some random number in an interval from 0 to 1."
   ]
  },
  {
   "cell_type": "code",
   "execution_count": 8,
   "id": "758968dc-1690-4889-9dd1-e97539a9b698",
   "metadata": {},
   "outputs": [
    {
     "name": "stdout",
     "output_type": "stream",
     "text": [
      "0.4537675920366019\n"
     ]
    }
   ],
   "source": [
    "import random\n",
    "\n",
    "# Generate a single random number between 0 and 1\n",
    "random_number = random.random()\n",
    "print(random_number)"
   ]
  },
  {
   "cell_type": "code",
   "execution_count": null,
   "id": "0c97a28c-c0a4-4b30-bb2f-c99d83624ba0",
   "metadata": {},
   "outputs": [],
   "source": [
    "# Generate a list of 5 random numbers between 0 and 1\n",
    "random_numbers = [random.random() for _ in range(5)]\n",
    "print(random_numbers)"
   ]
  },
  {
   "cell_type": "code",
   "execution_count": null,
   "id": "5f5deb54-b574-470f-afab-7ed925bb8845",
   "metadata": {},
   "outputs": [],
   "source": [
    "from manim import *"
   ]
  },
  {
   "cell_type": "code",
   "execution_count": null,
   "id": "5adf7947-f0f4-4a98-8fb2-04603141f403",
   "metadata": {},
   "outputs": [],
   "source": [
    "%%manim -qm -v WARNING OneDimensionalDistribution1\n",
    "\n",
    "random_numbers = [random.random() for _ in range(20)]\n",
    "\n",
    "class OneDimensionalDistribution1(Scene):\n",
    "    def construct(self):\n",
    "        # Create a number line from 0 to 1\n",
    "        number_line = NumberLine(\n",
    "            x_range=[0, 1, 0.1],  # range from 0 to 1 with ticks every 0.1\n",
    "            length=10,            # length of the line in scene units\n",
    "            color=BLUE,           # color of the number line\n",
    "            include_numbers=True, # show numbers on the line\n",
    "            label_direction=DOWN, # direction of the labels\n",
    "        )\n",
    "        \n",
    "        # Create uniform distribution points along the number line\n",
    "        distribution_points = VGroup(\n",
    "            *[Dot(point=number_line.n2p(x), color=RED) for x in [i for i in random_numbers]]\n",
    "        )\n",
    "\n",
    "        # Add number line and distribution points to the scene\n",
    "        self.play(Create(number_line))\n",
    "        for dot in distribution_points:\n",
    "          self.play(FadeIn(dot), run_time=0.1)\n",
    "\n",
    "        # Wait for a moment to visualize\n",
    "        self.wait(20)\n",
    "        "
   ]
  },
  {
   "cell_type": "code",
   "execution_count": null,
   "id": "e64653b4-f078-4d8f-bdd2-0e61a08b31cd",
   "metadata": {},
   "outputs": [],
   "source": [
    "%%manim -qm -v WARNING OneDimensionalDistribution2\n",
    "\n",
    "random_numbers = [random.random() for _ in range(700)]\n",
    "\n",
    "class OneDimensionalDistribution2(Scene):\n",
    "    def construct(self):\n",
    "        # Create a number line from 0 to 1\n",
    "        number_line = NumberLine(\n",
    "            x_range=[0, 1, 0.1],  # range from 0 to 1 with ticks every 0.1\n",
    "            length=10,            # length of the line in scene units\n",
    "            color=BLUE,           # color of the number line\n",
    "            include_numbers=True, # show numbers on the line\n",
    "            label_direction=DOWN, # direction of the labels\n",
    "        )\n",
    "        \n",
    "        # Create uniform distribution points along the number line\n",
    "        distribution_points = VGroup(\n",
    "            *[Dot(point=number_line.n2p(x), color=RED) for x in [i for i in random_numbers]]\n",
    "        )\n",
    "\n",
    "        # Add number line and distribution points to the scene\n",
    "        self.play(Create(number_line))\n",
    "        self.play(FadeIn(distribution_points))\n",
    "\n",
    "        # Wait for a moment to visualize\n",
    "        self.wait(20)"
   ]
  },
  {
   "cell_type": "markdown",
   "id": "9d25a3e2-bd18-4261-a34b-234276773168",
   "metadata": {},
   "source": [
    "## **Flip the coin** \n",
    "\n",
    "We want to pay a game: simulate a coin flip. If the generated number is smaller than 0.5, we count it as head and if it is bigger, we take it as tail."
   ]
  },
  {
   "cell_type": "code",
   "execution_count": null,
   "id": "1df95005-1d59-47b0-9421-a5137ec19322",
   "metadata": {},
   "outputs": [],
   "source": [
    "random_number = random.random()\n",
    "if (random_number < 0.5):\n",
    "  print (\"head\")\n",
    "else:\n",
    "  print (\"tail\")"
   ]
  },
  {
   "cell_type": "code",
   "execution_count": null,
   "id": "c4d19e45-0504-4174-9970-80606ba38764",
   "metadata": {},
   "outputs": [],
   "source": [
    "%%manim -qm -v WARNING CircleWithNumber\n",
    "\n",
    "random_number = random.random()\n",
    "\n",
    "if (random_number < 0.5):\n",
    "  result = 0\n",
    "else:\n",
    "  result = 1\n",
    "\n",
    "class CircleWithNumber(Scene):\n",
    "    def construct(self):\n",
    "        # Create a circle\n",
    "        circle = Circle(radius=1, color=BLUE)  # Adjust the radius and color as needed\n",
    "        \n",
    "        # Create a number (as text) to place inside the circle\n",
    "        number = Text(str(result), font_size=48)  # Adjust the number and font size as needed\n",
    "\n",
    "        # Position the number at the center of the circle\n",
    "        number.move_to(circle.get_center())\n",
    "\n",
    "        # Group the circle and the number together\n",
    "        circle_with_number = VGroup(circle, number)\n",
    "\n",
    "        # Add the circle with the number to the scene\n",
    "        self.play(Create(circle_with_number))\n",
    "\n",
    "        # Wait to visualize\n",
    "        self.wait(2)"
   ]
  },
  {
   "cell_type": "markdown",
   "id": "ea65f683-f07a-4fea-b020-872b5b76496d",
   "metadata": {},
   "source": [
    "Let's filp a lot of coins"
   ]
  },
  {
   "cell_type": "code",
   "execution_count": null,
   "id": "418b3f1c-5dfd-46ac-b5fb-bf68a8e3df33",
   "metadata": {},
   "outputs": [],
   "source": [
    "random_numbers = [random.random() for _ in range(20)]\n",
    "for x in random_numbers:\n",
    "  if (x < 0.5):\n",
    "    print (\"head\")\n",
    "  else:\n",
    "    print (\"tail\")"
   ]
  },
  {
   "cell_type": "code",
   "execution_count": null,
   "id": "8acd054a-97e4-4a6d-b23f-272a65bd7e5b",
   "metadata": {},
   "outputs": [],
   "source": [
    "%%manim -qm -v WARNING RowOfCircles\n",
    "\n",
    "random_number = random.random()\n",
    "\n",
    "random_numbers = [random.random() for _ in range(10)]\n",
    "\n",
    "result = []\n",
    "for x in random_numbers:\n",
    "  if (x < 0.5):\n",
    "    result.append(0)\n",
    "  else:\n",
    "    result.append(1)\n",
    "\n",
    "class RowOfCircles(Scene):\n",
    "    def construct(self):\n",
    "        # Create a list to hold the circle-number pairs\n",
    "        circles_with_numbers = VGroup()\n",
    "        \n",
    "        # Set the starting position for the first circle\n",
    "        start_x = -5  # Adjust for center alignment in the scene\n",
    "        y_position = 0  # Y position (keeping it constant for horizontal alignment)\n",
    "        \n",
    "        # Create 5 circles with numbers and arrange them in a row        \n",
    "        for i, x in enumerate(result):  # Create 5 circles with numbers 1 to 5            \n",
    "            # Create a circle\n",
    "            circle = Circle(radius=0.4, color=BLUE)\n",
    "            \n",
    "            # Create a number to place inside the circle\n",
    "            number = Text(str(x), font_size=17)\n",
    "            \n",
    "            # Position the number at the center of the circle\n",
    "            number.move_to(circle.get_center())\n",
    "            \n",
    "            # Group the circle and the number together\n",
    "            circle_with_number = VGroup(circle, number)\n",
    "            \n",
    "            # Set the position of the circle with number\n",
    "            circle_with_number.move_to([start_x + i , y_position, 0])  # Adjust spacing between circles\n",
    "            \n",
    "            # Add the circle with the number to the group\n",
    "            circles_with_numbers.add(circle_with_number)\n",
    "\n",
    "        # Add all circles with numbers to the scene\n",
    "        self.play(Create(circles_with_numbers))\n",
    "        \n",
    "        # Wait to visualize\n",
    "        self.wait(20)"
   ]
  },
  {
   "cell_type": "markdown",
   "id": "2f955ac1-07c5-4ef6-9385-fa676681bc6e",
   "metadata": {},
   "source": [
    "Let's count the number of tails and heads:"
   ]
  },
  {
   "cell_type": "code",
   "execution_count": null,
   "id": "4814c0d0-b16f-45a7-8870-710785ad97dc",
   "metadata": {},
   "outputs": [],
   "source": [
    "number_of_flips = 200\n",
    "number_of_heads = 0\n",
    "number_of_tails = 0\n",
    "\n",
    "random_numbers = [random.random() for _ in range(number_of_flips)]\n",
    "for x in random_numbers:\n",
    "  if (x < 0.5):\n",
    "    number_of_heads = number_of_heads + 1\n",
    "  else:\n",
    "    number_of_tails = number_of_tails + 1\n",
    "print(\"number of heads: \", number_of_heads)\n",
    "print(\"number of tails: \", number_of_tails)"
   ]
  },
  {
   "cell_type": "markdown",
   "id": "ab47cd18-8035-453c-8172-40cfe16b9486",
   "metadata": {},
   "source": [
    "we also want to count the ratio of heads to tails:"
   ]
  },
  {
   "cell_type": "code",
   "execution_count": null,
   "id": "525b9d79-9989-49fe-8b2c-c3c8868891c7",
   "metadata": {},
   "outputs": [],
   "source": [
    "number_of_flips = 4000000\n",
    "number_of_heads = 0\n",
    "number_of_tails = 0\n",
    "\n",
    "random_numbers = [random.random() for _ in range(number_of_flips)]\n",
    "for x in random_numbers:\n",
    "  if (x < 0.5):\n",
    "    number_of_heads = number_of_heads + 1\n",
    "  else:\n",
    "    number_of_tails = number_of_tails + 1\n",
    "print(\"number of heads: \", number_of_heads)\n",
    "print(\"number of tails: \", number_of_tails)\n",
    "print(\"ratio of heads: \", number_of_heads/number_of_flips)\n",
    "print(\"ratio of teils: \", number_of_tails/number_of_flips)\n"
   ]
  },
  {
   "cell_type": "markdown",
   "id": "4054d657-ba79-48e0-a219-da836928ab31",
   "metadata": {},
   "source": [
    "We want to check ratio of heads/tails in all experiments:"
   ]
  },
  {
   "cell_type": "code",
   "execution_count": 14,
   "id": "9a296202-bc6f-493a-82d5-5c0eb5abd5ae",
   "metadata": {},
   "outputs": [
    {
     "name": "stdout",
     "output_type": "stream",
     "text": [
      "0.4998\n"
     ]
    }
   ],
   "source": [
    "number_of_flips = 500\n",
    "number_of_heads = 0\n",
    "number_of_tails = 0\n",
    "\n",
    "random_numbers = [random.random() for _ in range(number_of_flips)]\n",
    "ratio_of_heads = []\n",
    "ratio_of_tails = []\n",
    "for i, x in enumerate(random_numbers):\n",
    "  if (x < 0.5):\n",
    "    number_of_heads = number_of_heads + 1\n",
    "  else:\n",
    "    number_of_tails = number_of_tails + 1\n",
    "  ratio_of_heads.append(number_of_heads/(i+1))\n",
    "  ratio_of_tails.append(number_of_tails/(i+1))\n",
    "print (ratio_of_heads[-1])"
   ]
  },
  {
   "cell_type": "code",
   "execution_count": 10,
   "id": "e228158b-5fff-4774-90c7-182c8311ff6b",
   "metadata": {},
   "outputs": [
    {
     "name": "stderr",
     "output_type": "stream",
     "text": [
      "UsageError: Cell magic `%%manim` not found.\n"
     ]
    }
   ],
   "source": [
    "%%manim -qm -v WARNING TwoGraphsFromArray\n",
    "\n",
    "class TwoGraphsFromArray(Scene):\n",
    "    def construct(self):\n",
    "        # Create the axes for the graph\n",
    "        axes = Axes(\n",
    "            x_range=[0, number_of_flips, 30],  # x-axis range from 0 to 10 with a step size of 1\n",
    "            y_range=[0, 1, 0.1],  # y-axis range from 0 to 10 with a step size of 1\n",
    "            x_length=7,          # length of the x-axis in scene units\n",
    "            y_length=5,          # length of the y-axis in scene units\n",
    "            axis_config={\"color\": GREY},  # color of the axes\n",
    "            tips=False,          # disable arrow tips at the ends of axes\n",
    "        )\n",
    "        \n",
    "        # Add labels to the axes\n",
    "        labels = axes.get_axis_labels(x_label=\"x\", y_label=\"y\")\n",
    "\n",
    "        # First set of values for the first graph\n",
    "        x_values_1 = range(number_of_flips)\n",
    "        y_values_1 = ratio_of_heads\n",
    "\n",
    "        # Second set of values for the second graph\n",
    "        x_values_2 = range(number_of_flips)\n",
    "        y_values_2 = ratio_of_tails\n",
    "\n",
    "        # Plot the first graph using plot_line_graph\n",
    "        graph1 = axes.plot_line_graph(\n",
    "            x_values_1, y_values_1,\n",
    "            add_vertex_dots=False,  # Adds dots at each point\n",
    "            line_color=BLUE,       # Color of the line connecting the points\n",
    "            vertex_dot_style=dict(stroke_width=0.1, fill_opacity=1, color=RED)  # Style of the dots\n",
    "        )\n",
    "\n",
    "        # Plot the second graph using plot_line_graph\n",
    "        graph2 = axes.plot_line_graph(\n",
    "            x_values_2, y_values_2,\n",
    "            add_vertex_dots=False,  # Adds dots at each point\n",
    "            line_color=GREEN,      # Color of the line connecting the points\n",
    "            vertex_dot_style=dict(stroke_width=0.1, fill_opacity=1, color=YELLOW)  # Style of the dots\n",
    "        )\n",
    "\n",
    "        # Add the axes, labels, and both graphs to the scene\n",
    "        self.play(Create(axes), Write(labels))\n",
    "        self.play(Create(graph1), Create(graph2))\n",
    "\n",
    "        # Wait to visualize the graph\n",
    "        self.wait(20)\n"
   ]
  },
  {
   "cell_type": "code",
   "execution_count": 15,
   "id": "f2c277b5-3952-4080-9fcf-c3e3cad2d0b3",
   "metadata": {},
   "outputs": [
    {
     "data": {
      "image/png": "[encoded data removed]",
      "text/plain": [
       "<Figure size 640x480 with 1 Axes>"
      ]
     },
     "metadata": {},
     "output_type": "display_data"
    }
   ],
   "source": [
    "import matplotlib.pyplot as plt\n",
    "\n",
    "plt.plot(ratio_of_heads, linestyle='-', color='r', label='Heads')\n",
    "plt.plot(ratio_of_tails, linestyle='-', color='y', label='Tails')\n",
    "\n",
    "# Adding labels and title\n",
    "plt.xlabel('Number of experiments')\n",
    "plt.ylabel('Ratio')\n",
    "plt.title('Plot of heads vs tails')\n",
    "\n",
    "# Adding a legend\n",
    "plt.legend()\n",
    "\n",
    "# Display the plot\n",
    "plt.show()"
   ]
  },
  {
   "cell_type": "code",
   "execution_count": null,
   "id": "82657aa4-f684-4bff-88cf-c63643c9b029",
   "metadata": {},
   "outputs": [],
   "source": []
  },
  {
   "cell_type": "code",
   "execution_count": null,
   "id": "3ddd9ce2-9faa-4edf-b7c1-7c572ada4602",
   "metadata": {},
   "outputs": [],
   "source": []
  }
 ],
 "metadata": {
  "kernelspec": {
   "display_name": "Python 3 (ipykernel)",
   "language": "python",
   "name": "python3"
  },
  "language_info": {
   "codemirror_mode": {
    "name": "ipython",
    "version": 3
   },
   "file_extension": ".py",
   "mimetype": "text/x-python",
   "name": "python",
   "nbconvert_exporter": "python",
   "pygments_lexer": "ipython3",
   "version": "3.11.9"
  }
 },
 "nbformat": 4,
 "nbformat_minor": 5
}
