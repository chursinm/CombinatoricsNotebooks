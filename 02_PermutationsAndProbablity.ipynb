{
 "cells": [
  {
   "cell_type": "markdown",
   "id": "ee88f39d-2a95-49b6-bbed-8bb49d3d369c",
   "metadata": {},
   "source": [
    "# **Variants, Permutations, and probability.**\n",
    "## **Counting variants** "
   ]
  },
  {
   "cell_type": "markdown",
   "id": "6c491172-b57c-4ef9-ae89-1a8d63ba5f5e",
   "metadata": {},
   "source": [
    "Remember the coins we were flipping last time. Today we are going to count all variants and calculate the probability of them."
   ]
  },
  {
   "cell_type": "markdown",
   "id": "1f9c6ede-766f-46a8-b8c3-82f2862faf68",
   "metadata": {},
   "source": [
    "Let us have $$v = x_1, x_2, x_3 \\dots x_n, \\space x_i = \\{0, 1\\}, \\space n \\in \\mathbb {N}.$$ "
   ]
  },
  {
   "cell_type": "markdown",
   "id": "e69a0639-e766-46d6-b0b6-35b9affdd794",
   "metadata": {},
   "source": [
    "For example, if $n = 3$ we have 8 all possible variants $v \\in V$:\n",
    "\n",
    "* $v_1 = 000$\n",
    "* $v_2 = 001$\n",
    "* $v_3 = 010$\n",
    "* $v_4 = 011$\n",
    "* $v_5 = 100$\n",
    "* $v_6 = 101$\n",
    "* $v_7 = 110$\n",
    "* $v_8 = 111$\n",
    "  "
   ]
  },
  {
   "cell_type": "markdown",
   "id": "f4a64ec0-5c09-4846-8691-9c93ee79481d",
   "metadata": {},
   "source": [
    "The common formula is very simple: number of all variants $V$ (for coins): $$ |V| = 2^n $$"
   ]
  },
  {
   "cell_type": "markdown",
   "id": "5a108e6f-7548-40c0-8e2b-2aefee7adae4",
   "metadata": {},
   "source": [
    "Let's derive this formula:"
   ]
  },
  {
   "cell_type": "markdown",
   "id": "a04e5801-bd73-4d2d-8bcd-55a01a8e41c7",
   "metadata": {},
   "source": [
    "![\"all variants\"](images/variants.png)"
   ]
  },
  {
   "cell_type": "code",
   "execution_count": null,
   "id": "c9315bd1-b439-402b-9918-69456d05b7cd",
   "metadata": {},
   "outputs": [],
   "source": [
    "\n",
    "#calculate all variants\n",
    "\n",
    "def findVariants(variants, currentVariant, n):\n",
    "    if n == 0:\n",
    "        variants.append(currentVariant)\n",
    "        return\n",
    "    findVariants (variants, currentVariant + \" 0\", n - 1)\n",
    "    findVariants (variants, currentVariant + \" 1\", n - 1)\n",
    "variants = []\n",
    "findVariants(variants, \"\", 3)\n",
    "print(variants)"
   ]
  },
  {
   "cell_type": "markdown",
   "id": "66245db6-6c39-449c-a026-b676631bc58a",
   "metadata": {},
   "source": [
    "It is ok, but let's find all combination in other way: probabilistic! Let's flip the coins and count if we get a new variant."
   ]
  },
  {
   "cell_type": "code",
   "execution_count": null,
   "id": "ced4073e-7bdc-4143-a66f-bf3f54edb39c",
   "metadata": {},
   "outputs": [],
   "source": [
    "from random import random\n",
    "\n",
    "def flipTheCoin():\n",
    "    if random()<0.5:\n",
    "        return 0\n",
    "    else:\n",
    "        return 1\n",
    "\n",
    "def generateSequence(n):\n",
    "    seq = \"\"\n",
    "    for i in range(0,n):\n",
    "        if flipTheCoin() == 0:\n",
    "            seq = seq + \" 0\"\n",
    "        else:\n",
    "            seq = seq + \" 1\"\n",
    "    return seq\n",
    "\n",
    "N = 3\n",
    "NumberOfLostFlips = 100\n",
    "variants = []\n",
    "while NumberOfLostFlips > 0:\n",
    "    seq = generateSequence(N)\n",
    "    if variants.count(seq) == 0:\n",
    "        variants.append(seq)\n",
    "    else:\n",
    "        NumberOfLostFlips = NumberOfLostFlips - 1\n",
    "print(variants)\n"
   ]
  },
  {
   "cell_type": "markdown",
   "id": "f92426e0-0355-44c1-8fd7-586ca8978ed7",
   "metadata": {},
   "source": [
    "About probabilities: let's play a game. Flip 3 coins and guess what is the sequence?"
   ]
  },
  {
   "cell_type": "code",
   "execution_count": null,
   "id": "72f55ba4-cb13-4477-9236-28ca4c291335",
   "metadata": {},
   "outputs": [],
   "source": [
    "from random import random\n",
    "\n",
    "def flipTheCoin():\n",
    "    if random()<0.5:\n",
    "        return 0\n",
    "    else:\n",
    "        return 1\n",
    "\n",
    "def generateSequence(n):\n",
    "    seq = \"\"\n",
    "    for i in range(0,n):\n",
    "        if flipTheCoin() == 0:\n",
    "            seq = seq + \" 0\"\n",
    "        else:\n",
    "            seq = seq + \" 1\"\n",
    "    return seq\n",
    "\n",
    "\n",
    "def playTheGame():\n",
    "    N = 3\n",
    "    LostGamePayment = 1\n",
    "    Prize = 7\n",
    "    WishSequence = \" 0 0 1\"\n",
    "    NumberOfFlips = 1000\n",
    "    AmountOfMoney = 0\n",
    "    Win = 0\n",
    "    Lost = 0\n",
    "    for i in range(0,NumberOfFlips):\n",
    "        if WishSequence == generateSequence(N):\n",
    "            AmountOfMoney = AmountOfMoney + Prize\n",
    "            #print (\"I'm the winner\")\n",
    "            Win = Win + 1\n",
    "        else:\n",
    "            AmountOfMoney = AmountOfMoney - LostGamePayment\n",
    "            Lost = Lost + 1\n",
    "        #print (AmountOfMoney)\n",
    "    return (AmountOfMoney, Win, Lost)\n",
    "\n",
    "\n",
    "AmountOfAllMoney = 0\n",
    "NumberOfGames = 1000\n",
    "Money, win, lost = playTheGame()\n",
    "print (playTheGame())\n",
    "print (\"win percentage = \" + str(win/NumberOfGames * 100)+\"%\")\n",
    "print (\"lost percentage = \" + str(lost/NumberOfGames * 100)+\"%\")\n",
    "#print (\"chances to win = \" + str(100/8)+\"%\")\n",
    "#print (\"chances to loose = \" + str(700/8)+\"%\")"
   ]
  },
  {
   "cell_type": "code",
   "execution_count": null,
   "id": "a08a4b39-d8a4-4ac2-a3b5-128e677d894e",
   "metadata": {},
   "outputs": [],
   "source": [
    "Question: what if we have 3 variants? What if we have different number of variants in the sequence? What the formula "
   ]
  },
  {
   "cell_type": "markdown",
   "id": "0ae9313f-0e4b-4f28-a035-63fc1ba238a8",
   "metadata": {},
   "source": [
    "## **Permutatoins** \n",
    "\n",
    "Permutation of $n$ elemensts is:  $$\\sigma = (\\sigma(1), \\sigma(2), \\dots, \\sigma(n)), \\space \\sigma: \\{1 ... n\\} \\rightarrow \\{1 ... n\\}.$$ "
   ]
  },
  {
   "cell_type": "markdown",
   "id": "df50a617-0453-4bce-ab25-2dd015a7e4d8",
   "metadata": {},
   "source": [
    "![\"permutations\"](images/permutatoions.png)"
   ]
  },
  {
   "cell_type": "markdown",
   "id": "446a3e6a-f760-4ea9-99f9-4a03a4916160",
   "metadata": {},
   "source": [
    "The formula for the number of all permutations of n elements is: $$ |P| = 1 \\cdot 2  \\dots n = n!.$$"
   ]
  },
  {
   "cell_type": "markdown",
   "id": "ead17d1d-01fc-4d9f-b23e-685007f56303",
   "metadata": {},
   "source": [
    "We can find a place for the first element in $n$ ways, for the next in $n-1% and so on, till the last element, where we don't have any choice."
   ]
  },
  {
   "cell_type": "code",
   "execution_count": null,
   "id": "f69f5ad5-89ab-4558-9b14-20cda8b43a4f",
   "metadata": {},
   "outputs": [],
   "source": [
    "def get_permutations(elements):\n",
    "    if len(elements) <= 1:\n",
    "        return [elements]\n",
    "    result = []\n",
    "    for i in range(len(elements)):\n",
    "        element = elements[i]\n",
    "        newElements = elements[:i] + elements [i+1:]\n",
    "        for permutation in get_permutations(newElements):\n",
    "            permutation.insert(0, element)\n",
    "            result.append(permutation)\n",
    "    return result\n",
    "\n",
    "elements = [1, 2, 3]\n",
    "print(get_permutations(elements))\n"
   ]
  },
  {
   "cell_type": "markdown",
   "id": "69b55ed1-26ba-491c-9f6b-c90e05a625d4",
   "metadata": {},
   "source": [
    "Let's do it in probabilistic way:"
   ]
  },
  {
   "cell_type": "code",
   "execution_count": null,
   "id": "7f29e410-0c86-4925-949d-3d526232a017",
   "metadata": {},
   "outputs": [],
   "source": [
    "from random import random\n",
    "import math\n",
    "\n",
    "def getRandomIndexFrom(n):\n",
    "    r = random()\n",
    "    _, ind = math.modf(r*n)\n",
    "    return int(ind)\n",
    "\n",
    "def getRandomPermutation(array):\n",
    "    elements = array.copy()\n",
    "    permutation = []\n",
    "    while len(elements) > 0:\n",
    "        index = getRandomIndexFrom(len(elements))\n",
    "        permutation.append(elements[index])\n",
    "        del elements[index]\n",
    "    return permutation\n",
    "\n",
    "array = [1, 2, 3]\n",
    "#print(getRandomPermutation(array))\n",
    "\n",
    "NumberOfLostTries = 100\n",
    "permutations = []\n",
    "while NumberOfLostTries > 0:\n",
    "    per = getRandomPermutation(array)\n",
    "    if permutations.count(per) == 0:\n",
    "        permutations.append(per)\n",
    "    else:\n",
    "        NumberOfLostTries = NumberOfLostTries - 1\n",
    "print(permutations)\n",
    "print(\"number of permutations: \" + str(len(permutations)))\n"
   ]
  },
  {
   "cell_type": "markdown",
   "id": "64ed5399-cc34-449f-a01e-18d251c07d12",
   "metadata": {},
   "source": [
    "Let's estimate the probability of guessing the first number:"
   ]
  },
  {
   "cell_type": "code",
   "execution_count": null,
   "id": "7c0a28a2-90ee-4388-b490-a3c4f114c0b6",
   "metadata": {},
   "outputs": [],
   "source": [
    "from random import random\n",
    "import math\n",
    "\n",
    "def getRandomIndexFrom(n):\n",
    "    r = random()\n",
    "    _, ind = math.modf(r*n)\n",
    "    return int(ind)\n",
    "\n",
    "def getRandomPermutation(array):\n",
    "    elements = array.copy()\n",
    "    permutation = []\n",
    "    while len(elements) > 0:\n",
    "        index = getRandomIndexFrom(len(elements))\n",
    "        permutation.append(elements[index])\n",
    "        del elements[index]\n",
    "    return permutation\n",
    "\n",
    "array = [1, 2, 3]\n",
    "#print(getRandomPermutation(array))\n",
    "\n",
    "def playTheGame():\n",
    "    array = [1, 2, 3]\n",
    "    LostGamePayment = 1\n",
    "    Prize = 2\n",
    "    BeginingNumber = 1\n",
    "    NumberOfGames = 1000\n",
    "    AmountOfMoney = 0\n",
    "    Win = 0\n",
    "    Lost = 0\n",
    "    for i in range(0,NumberOfGames):\n",
    "        if BeginingNumber == getRandomPermutation(array)[0]:\n",
    "            AmountOfMoney = AmountOfMoney + Prize\n",
    "            #print (\"I'm the winner\")\n",
    "            Win = Win + 1\n",
    "        else:\n",
    "            AmountOfMoney = AmountOfMoney - LostGamePayment\n",
    "            Lost = Lost + 1\n",
    "        #print (AmountOfMoney)\n",
    "    return (AmountOfMoney, Win, Lost)\n",
    "\n",
    "\n",
    "AmountOfAllMoney = 0\n",
    "NumberOfGames = 1000\n",
    "Money, win, lost = playTheGame()\n",
    "print (playTheGame())\n",
    "print (\"win percentage = \" + str(win/NumberOfGames * 100)+\"%\")\n",
    "print (\"lost percentage = \" + str(lost/NumberOfGames * 100)+\"%\")\n",
    "#print (\"chances to win = \" + str(200/6)+\"%\")\n",
    "#print (\"chances to loose = \" + str(400/6)+\"%\")\n"
   ]
  },
  {
   "cell_type": "markdown",
   "id": "bb7368dc-ee5e-435d-af26-8f6cd278b4a8",
   "metadata": {},
   "source": [
    "## **Monte Carlo Method** \n",
    "\n",
    "Let's calclute number of pi. We know that area of circle is $$A = \\pi r^2,$$ so if we could calculate an area of unit circle we should get $\\pi$ number."
   ]
  },
  {
   "cell_type": "code",
   "execution_count": 6,
   "id": "0f0339a6-38ee-4c7d-90ec-66568c3e5a08",
   "metadata": {},
   "outputs": [],
   "source": [
    "from manim import *\n",
    "import random\n",
    "import numpy as np"
   ]
  },
  {
   "cell_type": "code",
   "execution_count": 13,
   "id": "ea6a6c04-0904-4462-8e64-96b19cf2c01f",
   "metadata": {},
   "outputs": [
    {
     "data": {
      "text/html": [
       "<pre style=\"white-space:pre;overflow-x:auto;line-height:normal;font-family:Menlo,'DejaVu Sans Mono',consolas,'Courier New',monospace\">Manim Community <span style=\"color: #008000; text-decoration-color: #008000\">v0.18.1</span>\n",
       "\n",
       "</pre>\n"
      ],
      "text/plain": [
       "Manim Community \u001b[32mv0.\u001b[0m\u001b[32m18.1\u001b[0m\n",
       "\n"
      ]
     },
     "metadata": {},
     "output_type": "display_data"
    },
    {
     "name": "stderr",
     "output_type": "stream",
     "text": [
      "                                                                                                                       \r"
     ]
    },
    {
     "data": {
      "text/html": [
       "<video src=\"media\\jupyter\\UnitCircleInSquare@2024-09-15@18-20-59.mp4\" controls autoplay loop style=\"max-width: 60%;\"  >\n",
       "      Your browser does not support the <code>video</code> element.\n",
       "    </video>"
      ],
      "text/plain": [
       "<IPython.core.display.Video object>"
      ]
     },
     "metadata": {},
     "output_type": "display_data"
    }
   ],
   "source": [
    "%%manim -qm -v WARNING UnitCircleInSquare\n",
    "\n",
    "radius = 3\n",
    "\n",
    "class UnitCircleInSquare(Scene):\n",
    "    def construct(self):\n",
    "        # Create a unit square with side length 2 (from -1 to 1 on both axes)\n",
    "        square = Square(side_length=radius*2)\n",
    "        square.set_stroke(color=WHITE)\n",
    "\n",
    "        # Create a unit circle with radius 1\n",
    "        circle = Circle(radius=radius)\n",
    "        circle.set_stroke(color=WHITE)\n",
    "\n",
    "        # Add the square and circle to the scene\n",
    "        self.play(Create(square))\n",
    "        self.play(Create(circle))\n",
    "\n",
    "        # Generate random points inside the square\n",
    "        num_points = 200  # Adjust the number of points as needed\n",
    "        for _ in range(num_points):\n",
    "            x, y = np.random.uniform(-3, 3, 2)\n",
    "            point = Dot(point=[x, y, 0], radius=0.07)\n",
    "\n",
    "            # Check if the point is inside the circle\n",
    "            if x**2 + y**2 <= radius*radius:\n",
    "                point.set_color(GREEN)\n",
    "            else:\n",
    "                point.set_color(RED)\n",
    "\n",
    "            # Add the point to the scene\n",
    "            self.add(point)\n",
    "            self.wait(0.1)  # Short pause between pointsto visualize\n",
    "        self.wait(20)"
   ]
  },
  {
   "cell_type": "code",
   "execution_count": 14,
   "id": "c4fcb539-a15a-4caf-aa4f-97f9d065b828",
   "metadata": {},
   "outputs": [
    {
     "name": "stdout",
     "output_type": "stream",
     "text": [
      "ratio of Points inside = 0.7864\n",
      "PI = AreaOfSquare * RatioOfPointsInside = 3.1456\n"
     ]
    }
   ],
   "source": [
    "from random import random\n",
    "\n",
    "def generateSample():\n",
    "    x = random()*2-1\n",
    "    y = random()*2-1\n",
    "    return (x,y)\n",
    "\n",
    "numberOfAllPoints = 100000\n",
    "numberOfPointsInside = 0\n",
    "numberOfPointsOutside = 0\n",
    "areaOfSquare = 4\n",
    "for i in range(0, numberOfAllPoints):\n",
    "    x, y = generateSample()\n",
    "    #print(x,y)\n",
    "    if (x**2 + y**2 < 1):\n",
    "        numberOfPointsInside = numberOfPointsInside + 1\n",
    "    else:\n",
    "        numberOfPointsOutside = numberOfPointsOutside + 1\n",
    "print (\"ratio of Points inside = \" + str(numberOfPointsInside/numberOfAllPoints))\n",
    "print (\"PI = AreaOfSquare * RatioOfPointsInside = \" + str(areaOfSquare*numberOfPointsInside/numberOfAllPoints))\n",
    "\n"
   ]
  },
  {
   "cell_type": "code",
   "execution_count": null,
   "id": "a6f7fc46-2f3c-4b40-8130-852358832569",
   "metadata": {},
   "outputs": [],
   "source": []
  }
 ],
 "metadata": {
  "kernelspec": {
   "display_name": "Python 3 (ipykernel)",
   "language": "python",
   "name": "python3"
  },
  "language_info": {
   "codemirror_mode": {
    "name": "ipython",
    "version": 3
   },
   "file_extension": ".py",
   "mimetype": "text/x-python",
   "name": "python",
   "nbconvert_exporter": "python",
   "pygments_lexer": "ipython3",
   "version": "3.11.9"
  }
 },
 "nbformat": 4,
 "nbformat_minor": 5
}
