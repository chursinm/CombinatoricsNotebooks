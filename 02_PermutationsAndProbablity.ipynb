{
 "cells": [
  {
   "cell_type": "markdown",
   "id": "ee88f39d-2a95-49b6-bbed-8bb49d3d369c",
   "metadata": {},
   "source": [
    "# **Variants, Permutations, and probability**\n",
    "## **Counting variants** "
   ]
  },
  {
   "cell_type": "markdown",
   "id": "6c491172-b57c-4ef9-ae89-1a8d63ba5f5e",
   "metadata": {},
   "source": [
    "Remember the coins we were flipping last time. Today we are going to count all variants and calculate the probability of them."
   ]
  },
  {
   "cell_type": "markdown",
   "id": "1f9c6ede-766f-46a8-b8c3-82f2862faf68",
   "metadata": {},
   "source": [
    "Let us have $$v = x_1, x_2, x_3 \\dots x_n, \\space x_i = \\{0, 1\\}, \\space n \\in \\mathbb {N}.$$ "
   ]
  },
  {
   "cell_type": "markdown",
   "id": "e69a0639-e766-46d6-b0b6-35b9affdd794",
   "metadata": {},
   "source": [
    "For example, if $n = 3$ we have 8 all possible variants $v \\in V$:\n",
    "\n",
    "* $v_1 = 000$\n",
    "* $v_2 = 001$\n",
    "* $v_3 = 010$\n",
    "* $v_4 = 011$\n",
    "* $v_5 = 100$\n",
    "* $v_6 = 101$\n",
    "* $v_7 = 110$\n",
    "* $v_8 = 111$\n",
    "  "
   ]
  },
  {
   "cell_type": "markdown",
   "id": "f4a64ec0-5c09-4846-8691-9c93ee79481d",
   "metadata": {},
   "source": [
    "The common formula is very simple: number of variants N (for coins): $$ |V| = 2^N $$"
   ]
  },
  {
   "cell_type": "markdown",
   "id": "5a108e6f-7548-40c0-8e2b-2aefee7adae4",
   "metadata": {},
   "source": [
    "Let's derive this formula:"
   ]
  },
  {
   "cell_type": "markdown",
   "id": "a04e5801-bd73-4d2d-8bcd-55a01a8e41c7",
   "metadata": {},
   "source": [
    "![\"all variants\"](images/variants.png)"
   ]
  },
  {
   "cell_type": "code",
   "execution_count": 5,
   "id": "c9315bd1-b439-402b-9918-69456d05b7cd",
   "metadata": {},
   "outputs": [
    {
     "name": "stdout",
     "output_type": "stream",
     "text": [
      "[' 0 0 0', ' 0 0 1', ' 0 1 0', ' 0 1 1', ' 1 0 0', ' 1 0 1', ' 1 1 0', ' 1 1 1']\n"
     ]
    }
   ],
   "source": [
    "\n",
    "#calculate all variants\n",
    "\n",
    "def findVariants(variants, currentVariant, n):\n",
    "    if n == 0:\n",
    "        variants.append(currentVariant)\n",
    "        return\n",
    "    findVariants (variants, currentVariant + \" 0\", n - 1)\n",
    "    findVariants (variants, currentVariant + \" 1\", n - 1)\n",
    "variants = []\n",
    "findVariants(variants, \"\", 3)\n",
    "print(variants)"
   ]
  },
  {
   "cell_type": "markdown",
   "id": "66245db6-6c39-449c-a026-b676631bc58a",
   "metadata": {},
   "source": [
    "It is ok, but let's find all combination in other way: probabilistic! Let's flip the coins and count if we get a new variant."
   ]
  },
  {
   "cell_type": "code",
   "execution_count": 6,
   "id": "ced4073e-7bdc-4143-a66f-bf3f54edb39c",
   "metadata": {},
   "outputs": [
    {
     "name": "stdout",
     "output_type": "stream",
     "text": [
      "[' 1 0 0', ' 1 1 0', ' 1 0 1', ' 0 1 0', ' 0 0 1', ' 0 1 1', ' 1 1 1', ' 0 0 0']\n"
     ]
    }
   ],
   "source": [
    "from random import random\n",
    "\n",
    "def flipTheCoin():\n",
    "    if random()<0.5:\n",
    "        return 0\n",
    "    else:\n",
    "        return 1\n",
    "\n",
    "def generateSequence(n):\n",
    "    seq = \"\"\n",
    "    for i in range(0,n):\n",
    "        if flipTheCoin() == 0:\n",
    "            seq = seq + \" 0\"\n",
    "        else:\n",
    "            seq = seq + \" 1\"\n",
    "    return seq\n",
    "\n",
    "N = 3\n",
    "NumberOfLostFlips = 100\n",
    "variants = []\n",
    "while NumberOfLostFlips > 0:\n",
    "    seq = generateSequence(N)\n",
    "    if variants.count(seq) == 0:\n",
    "        variants.append(seq)\n",
    "    else:\n",
    "        NumberOfLostFlips = NumberOfLostFlips - 1\n",
    "print(variants)\n"
   ]
  },
  {
   "cell_type": "markdown",
   "id": "f92426e0-0355-44c1-8fd7-586ca8978ed7",
   "metadata": {},
   "source": [
    "About probabilities: let's play a game. Flip 3 coins and guess what is the sequence?"
   ]
  },
  {
   "cell_type": "markdown",
   "id": "438dc601-9d4e-4ce3-b46f-598de1c06303",
   "metadata": {},
   "source": [
    "from random import random\n",
    "\n",
    "def flipTheCoin():\n",
    "    if random()<0.5:\n",
    "        return 0\n",
    "    else:\n",
    "        return 1\n",
    "\n",
    "def generateSequence(n):\n",
    "    seq = \"\"\n",
    "    for i in range(0,n):\n",
    "        if flipTheCoin() == 0:\n",
    "            seq = seq + \" 0\"\n",
    "        else:\n",
    "            seq = seq + \" 1\"\n",
    "    return seq\n",
    "\n",
    "\n",
    "def playTheGame():\n",
    "    N = 3\n",
    "    LostGamePayment = 1\n",
    "    Prize = 7\n",
    "    WishSequence = \" 0 0 1\"\n",
    "    NumberOfFlips = 1000\n",
    "    AmountOfMoney = 0\n",
    "    for i in range(0,NumberOfFlips):\n",
    "        if WishSequence == generateSequence(N):\n",
    "            AmountOfMoney = AmountOfMoney + Prize\n",
    "            #print (\"I'm the winner\")\n",
    "        else:\n",
    "            AmountOfMoney = AmountOfMoney - LostGamePayment\n",
    "        #print (AmountOfMoney)\n",
    "    return AmountOfMoney\n",
    "\n",
    "\n",
    "Won = 0\n",
    "Lost = 0\n",
    "AmountOfAllMoney = 0\n",
    "NumberOfGames = 1000\n",
    "for game in range(0, NumberOfGames):\n",
    "    AmountOfPerGameMoney = playTheGame()\n",
    "    if playTheGame() >=0:\n",
    "        Won = Won + 1\n",
    "    else:\n",
    "        Lost = Lost + 1\n",
    "    AmountOfAllMoney = AmountOfAllMoney + AmountOfPerGameMoney\n",
    "print (\"You won in  \" + str(Won/NumberOfGames * 100 ) + \" percent of games\")\n",
    "print (\"You lost in  \" + str(Lost/NumberOfGames * 100) + \" percent of games\")\n",
    "print (\"You bank account is: \" + str(AmountOfAllMoney))"
   ]
  },
  {
   "cell_type": "markdown",
   "id": "0ae9313f-0e4b-4f28-a035-63fc1ba238a8",
   "metadata": {},
   "source": [
    "## **Permutatoins** \n",
    "\n",
    "Permutation of $n$ elemensts is:  $$\\sigma = (\\sigma(1), \\sigma(2), \\dots, \\sigma(n)), \\space \\sigma: \\{1 ... n\\} \\rightarrow \\{1 ... n\\}.$$ "
   ]
  },
  {
   "cell_type": "markdown",
   "id": "df50a617-0453-4bce-ab25-2dd015a7e4d8",
   "metadata": {},
   "source": [
    "![\"permutations\"](images/permutatoions.png)"
   ]
  },
  {
   "cell_type": "markdown",
   "id": "446a3e6a-f760-4ea9-99f9-4a03a4916160",
   "metadata": {},
   "source": [
    "The formula for the number of all permutations of n elements is: $$ |P| = 1 \\cdot 2  \\dots n = n!.$$"
   ]
  },
  {
   "cell_type": "markdown",
   "id": "ead17d1d-01fc-4d9f-b23e-685007f56303",
   "metadata": {},
   "source": [
    "We can find a place for the first element in $n$ ways, for the next in $n-1% and so on, till the last element, where we don't have any choice."
   ]
  },
  {
   "cell_type": "code",
   "execution_count": 13,
   "id": "f69f5ad5-89ab-4558-9b14-20cda8b43a4f",
   "metadata": {},
   "outputs": [
    {
     "name": "stdout",
     "output_type": "stream",
     "text": [
      "[[1, 2, 3], [1, 3, 2], [2, 1, 3], [2, 3, 1], [3, 1, 2], [3, 2, 1]]\n"
     ]
    }
   ],
   "source": [
    "def get_permutations(elements):\n",
    "    if len(elements) <= 1:\n",
    "        return [elements]\n",
    "    result = []\n",
    "    for i in range(len(elements)):\n",
    "        element = elements[i]\n",
    "        newElements = elements[:i] + elements [i+1:]\n",
    "        for permutation in get_permutations(newElements):\n",
    "            permutation.insert(0, element)\n",
    "            result.append(permutation)\n",
    "    return result\n",
    "\n",
    "elements = [1, 2, 3]\n",
    "print(get_permutations(elements))\n"
   ]
  },
  {
   "cell_type": "markdown",
   "id": "69b55ed1-26ba-491c-9f6b-c90e05a625d4",
   "metadata": {},
   "source": [
    "Let's do it in probabilistic way:"
   ]
  },
  {
   "cell_type": "code",
   "execution_count": 14,
   "id": "7f29e410-0c86-4925-949d-3d526232a017",
   "metadata": {},
   "outputs": [
    {
     "name": "stdout",
     "output_type": "stream",
     "text": [
      "[[1, 3, 2], [3, 1, 2], [2, 1, 3], [2, 3, 1], [1, 2, 3], [3, 2, 1]]\n",
      "number of permutations: 6\n"
     ]
    }
   ],
   "source": [
    "from random import random\n",
    "import math\n",
    "\n",
    "def getRandomIndexFrom(n):\n",
    "    r = random()\n",
    "    _, ind = math.modf(r*n)\n",
    "    return int(ind)\n",
    "\n",
    "def getRandomPermutation(array):\n",
    "    elements = array.copy()\n",
    "    permutation = []\n",
    "    while len(elements) > 0:\n",
    "        index = getRandomIndexFrom(len(elements))\n",
    "        permutation.append(elements[index])\n",
    "        del elements[index]\n",
    "    return permutation\n",
    "\n",
    "array = [1, 2, 3]\n",
    "#print(getRandomPermutation(array))\n",
    "\n",
    "NumberOfLostTries = 100\n",
    "permutations = []\n",
    "while NumberOfLostTries > 0:\n",
    "    per = getRandomPermutation(array)\n",
    "    if permutations.count(per) == 0:\n",
    "        permutations.append(per)\n",
    "    else:\n",
    "        NumberOfLostTries = NumberOfLostTries - 1\n",
    "print(permutations)\n",
    "print(\"number of permutations: \" + str(len(permutations)))\n"
   ]
  },
  {
   "cell_type": "code",
   "execution_count": null,
   "id": "2f39f209-d8b7-4eeb-a197-04d0848ac1be",
   "metadata": {},
   "outputs": [],
   "source": []
  }
 ],
 "metadata": {
  "kernelspec": {
   "display_name": "Python 3 (ipykernel)",
   "language": "python",
   "name": "python3"
  },
  "language_info": {
   "codemirror_mode": {
    "name": "ipython",
    "version": 3
   },
   "file_extension": ".py",
   "mimetype": "text/x-python",
   "name": "python",
   "nbconvert_exporter": "python",
   "pygments_lexer": "ipython3",
   "version": "3.11.9"
  }
 },
 "nbformat": 4,
 "nbformat_minor": 5
}
